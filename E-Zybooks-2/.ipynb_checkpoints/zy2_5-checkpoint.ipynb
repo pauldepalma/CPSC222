{
 "cells": [
  {
   "cell_type": "markdown",
   "id": "8b6e20f9-d91b-4d69-99d4-3c85c44f03df",
   "metadata": {},
   "source": [
    "# Essential Numpy"
   ]
  },
  {
   "cell_type": "code",
   "execution_count": 7,
   "id": "c10c4816-0e02-4dc7-9c65-daa7e2167423",
   "metadata": {},
   "outputs": [],
   "source": [
    "import numpy as np"
   ]
  },
  {
   "cell_type": "code",
   "execution_count": 17,
   "id": "b0de07d6-f485-49ae-aebe-8547613149a7",
   "metadata": {},
   "outputs": [
    {
     "name": "stdout",
     "output_type": "stream",
     "text": [
      "1\n"
     ]
    }
   ],
   "source": [
    "#Numpy arrays are like Python lists \n",
    "#1-d\n",
    "arr1 = np.array([1,2,3])\n",
    "arr1\n",
    "print(arr1[0])\n"
   ]
  },
  {
   "cell_type": "code",
   "execution_count": 18,
   "id": "3b7636af-7d9c-4cee-bf81-8d6311037985",
   "metadata": {},
   "outputs": [
    {
     "name": "stdout",
     "output_type": "stream",
     "text": [
      "220\n"
     ]
    }
   ],
   "source": [
    "#2-d\n",
    "arr2 = np.array([[10, 20, 30], [210, 220, 230]])\n",
    "arr2\n",
    "print(arr2[1,1])"
   ]
  },
  {
   "cell_type": "code",
   "execution_count": 23,
   "id": "d26dded2-9fb4-462b-9f23-9c9bc3cc7924",
   "metadata": {},
   "outputs": [
    {
     "name": "stdout",
     "output_type": "stream",
     "text": [
      "19\n"
     ]
    }
   ],
   "source": [
    "#3-d\n",
    "#First index: Which table.  There are 2, 0 and 1\n",
    "#Second indes: \n",
    "#Second index: \n",
    "\n",
    "arr3 = np.array([\n",
    "    [[1, 2, 3, 4],\n",
    "     [5, 6, 7, 8],\n",
    "     [9, 10, 11, 12]],\n",
    "\n",
    "    [[13, 14, 15, 16],\n",
    "     [17, 18, 19, 20],\n",
    "     [21, 22, 23, 24]]\n",
    "])\n",
    "arr3\n",
    "print(arr3[1,1,2])"
   ]
  },
  {
   "cell_type": "code",
   "execution_count": null,
   "id": "5804a959-f698-4994-8db1-7c64974d398d",
   "metadata": {},
   "outputs": [],
   "source": []
  }
 ],
 "metadata": {
  "kernelspec": {
   "display_name": "Python 3 (ipykernel)",
   "language": "python",
   "name": "python3"
  },
  "language_info": {
   "codemirror_mode": {
    "name": "ipython",
    "version": 3
   },
   "file_extension": ".py",
   "mimetype": "text/x-python",
   "name": "python",
   "nbconvert_exporter": "python",
   "pygments_lexer": "ipython3",
   "version": "3.13.7"
  }
 },
 "nbformat": 4,
 "nbformat_minor": 5
}
