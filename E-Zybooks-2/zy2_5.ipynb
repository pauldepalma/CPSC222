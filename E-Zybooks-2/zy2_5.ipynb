{
 "cells": [
  {
   "cell_type": "markdown",
   "id": "8b6e20f9-d91b-4d69-99d4-3c85c44f03df",
   "metadata": {},
   "source": [
    "# Essential Numpy"
   ]
  },
  {
   "cell_type": "markdown",
   "id": "61169a31-a36d-40c3-8ade-2cc34085cb5e",
   "metadata": {},
   "source": [
    "## Part 1 General Array Functions"
   ]
  },
  {
   "cell_type": "code",
   "execution_count": 1,
   "id": "c10c4816-0e02-4dc7-9c65-daa7e2167423",
   "metadata": {},
   "outputs": [],
   "source": [
    "import numpy as np"
   ]
  },
  {
   "cell_type": "code",
   "execution_count": null,
   "id": "a7e1ee0a-d5e6-4dc4-85cf-8e408f8f19a2",
   "metadata": {},
   "outputs": [],
   "source": []
  },
  {
   "cell_type": "code",
   "execution_count": 2,
   "id": "b0de07d6-f485-49ae-aebe-8547613149a7",
   "metadata": {},
   "outputs": [
    {
     "name": "stdout",
     "output_type": "stream",
     "text": [
      "1\n"
     ]
    }
   ],
   "source": [
    "#Numpy arrays are like Python lists \n",
    "#1-d\n",
    "arr1 = np.array([1,2,3])\n",
    "arr1\n",
    "print(arr1[0])\n"
   ]
  },
  {
   "cell_type": "code",
   "execution_count": 3,
   "id": "3b7636af-7d9c-4cee-bf81-8d6311037985",
   "metadata": {},
   "outputs": [
    {
     "name": "stdout",
     "output_type": "stream",
     "text": [
      "220\n"
     ]
    }
   ],
   "source": [
    "#2-d\n",
    "arr2 = np.array([[10, 20, 30], [210, 220, 230]])\n",
    "arr2\n",
    "print(arr2[1,1])"
   ]
  },
  {
   "cell_type": "code",
   "execution_count": 4,
   "id": "d26dded2-9fb4-462b-9f23-9c9bc3cc7924",
   "metadata": {},
   "outputs": [
    {
     "name": "stdout",
     "output_type": "stream",
     "text": [
      "19\n",
      "12\n"
     ]
    }
   ],
   "source": [
    "#3-d: A stack of 2-d matrices\n",
    "#First index: Which matrix (or block). There are 2--block 0 and block 1\n",
    "#Second index: Which row withn a block.  There are 3: 0,1,2\n",
    "#Third index: Which column within a block.  There 4: 0,1,2,3\n",
    "\n",
    "arr3 = np.array([\n",
    "    [[1, 2, 3, 4],\n",
    "     [5, 6, 7, 8],\n",
    "     [9, 10, 11, 12]],\n",
    "\n",
    "    [[13, 14, 15, 16],\n",
    "     [17, 18, 19, 20],\n",
    "     [21, 22, 23, 24]]\n",
    "])\n",
    "arr3\n",
    "print(arr3[1,1,2])\n",
    "print(arr3[0,2,3])"
   ]
  },
  {
   "cell_type": "code",
   "execution_count": 5,
   "id": "5804a959-f698-4994-8db1-7c64974d398d",
   "metadata": {},
   "outputs": [
    {
     "data": {
      "text/plain": [
       "(2, 3, 4)"
      ]
     },
     "execution_count": 5,
     "metadata": {},
     "output_type": "execute_result"
    }
   ],
   "source": [
    "#The shape of an array is a tuple of max sizes. In this case, 2 blocks, 3 rows, 4 colums\n",
    "np.shape(arr3)"
   ]
  },
  {
   "cell_type": "code",
   "execution_count": 6,
   "id": "ed68a95d-71c9-434d-b764-70d5bf65a989",
   "metadata": {},
   "outputs": [
    {
     "name": "stdout",
     "output_type": "stream",
     "text": [
      "(3, 4)\n",
      "[['z' 'a' 'g' 's']\n",
      " ['h' 'o' 'o' 'p']\n",
      " ['Q' 'Q' 'Q' 'Q']]\n"
     ]
    }
   ],
   "source": [
    "#insert function\n",
    "#insert 'Q' in a new second second row by setting axis to 0\n",
    "arr = np.array([['z','a','g','s'], ['h','o','o','p']])\n",
    "arr = np.insert(arr,2,'Q', axis=0)\n",
    "print(np.shape(arr))\n",
    "print(arr)\n",
    "               "
   ]
  },
  {
   "cell_type": "code",
   "execution_count": 7,
   "id": "316d1f30-2fa0-4528-87c1-2689db594e8a",
   "metadata": {},
   "outputs": [
    {
     "name": "stdout",
     "output_type": "stream",
     "text": [
      "(2, 5)\n",
      "[['z' 'a' 'R' 'g' 's']\n",
      " ['h' 'o' 'R' 'o' 'p']]\n"
     ]
    }
   ],
   "source": [
    "#inster 'R in a new second column, by setting axis to 1\n",
    "arr = np.array([['z','a','g','s'], ['h','o','o','p']])\n",
    "arr = np.insert(arr,2,'R', axis=1)\n",
    "print(np.shape(arr))\n",
    "print(arr)"
   ]
  },
  {
   "cell_type": "code",
   "execution_count": 21,
   "id": "ecec62a2-333b-4663-8c73-8fdbf89a6325",
   "metadata": {},
   "outputs": [
    {
     "name": "stdout",
     "output_type": "stream",
     "text": [
      "[77 93 78 48 89 10  3 73 28  8]\n"
     ]
    },
    {
     "data": {
      "text/plain": [
       "array([ 3,  8, 10, 28, 48, 73, 77, 78, 89, 93])"
      ]
     },
     "execution_count": 21,
     "metadata": {},
     "output_type": "execute_result"
    }
   ],
   "source": [
    "#sort\n",
    "import random\n",
    "arr = np.array([random.randint(0,100) for i in range(10)])\n",
    "print(arr)\n",
    "np.sort(arr)\n"
   ]
  },
  {
   "cell_type": "code",
   "execution_count": 28,
   "id": "a8756998-3ae5-47ce-82c9-52c02bce3b39",
   "metadata": {},
   "outputs": [
    {
     "name": "stdout",
     "output_type": "stream",
     "text": [
      "[[6 5]\n",
      " [4 2]\n",
      " [2 1]]\n",
      "\n",
      "[[2 1]\n",
      " [4 2]\n",
      " [6 5]]\n",
      "\n",
      "[[1 2]\n",
      " [2 4]\n",
      " [5 6]]\n"
     ]
    }
   ],
   "source": [
    "#sorting a matrix by rows then cols\n",
    "arr = np.array([[6,5],\n",
    "      [4,2],\n",
    "      [2,1]])\n",
    "print(arr)\n",
    "print()\n",
    "arr = np.sort(arr,axis=0)\n",
    "print(arr)\n",
    "print()\n",
    "arr = np.sort(arr,axis=1)\n",
    "print(arr)\n",
    "\n"
   ]
  },
  {
   "cell_type": "code",
   "execution_count": 30,
   "id": "a63590dc-6077-4017-8520-01efe370c67b",
   "metadata": {},
   "outputs": [
    {
     "name": "stdout",
     "output_type": "stream",
     "text": [
      "[[2 4]\n",
      " [5 6]]\n"
     ]
    }
   ],
   "source": [
    "#delete row 0.\n",
    "arr = np.delete(arr,0, axis=0)\n",
    "print(arr)"
   ]
  },
  {
   "cell_type": "code",
   "execution_count": 34,
   "id": "d7a78303-1214-46e9-985a-23c8f6f6ef8a",
   "metadata": {},
   "outputs": [
    {
     "name": "stdout",
     "output_type": "stream",
     "text": [
      "\n"
     ]
    },
    {
     "data": {
      "text/plain": [
       "array([[0., 0., 0., 0.],\n",
       "       [0., 0., 0., 0.],\n",
       "       [0., 0., 0., 0.]])"
      ]
     },
     "execution_count": 34,
     "metadata": {},
     "output_type": "execute_result"
    }
   ],
   "source": [
    "#Creaete an array with zeros\n",
    "np.zeros(3)\n",
    "print()\n",
    "np.zeros((3,4))"
   ]
  },
  {
   "cell_type": "markdown",
   "id": "f9e9f1ee-d9cd-46c2-893d-247c11673f1c",
   "metadata": {},
   "source": [
    "## Part 2: Shape Functions"
   ]
  },
  {
   "cell_type": "code",
   "execution_count": 40,
   "id": "ab6576de-9c40-4e82-863e-71c59c27c103",
   "metadata": {},
   "outputs": [
    {
     "name": "stdout",
     "output_type": "stream",
     "text": [
      "[[1 2]\n",
      " [3 4]]\n",
      "\n",
      "[[1 2 3 4]]\n"
     ]
    }
   ],
   "source": [
    "#Arrays can be reshaped\n",
    "array1 = np.array([[1, 2], [3, 4]])\n",
    "print(array1)\n",
    "print()\n",
    "array1 = np.reshape(array1, (1, 4))\n",
    "print(array1)"
   ]
  },
  {
   "cell_type": "code",
   "execution_count": 43,
   "id": "07989a51-bda3-441b-8d29-7fba4e17a748",
   "metadata": {},
   "outputs": [
    {
     "name": "stdout",
     "output_type": "stream",
     "text": [
      "[1 2 3 4]\n"
     ]
    }
   ],
   "source": [
    "#we can flatten this weird array\n",
    "array1 = np.ravel(array1)\n",
    "print(array1)"
   ]
  },
  {
   "cell_type": "code",
   "execution_count": 45,
   "id": "c7606e5c-a85a-4467-ab86-93cab669d1c2",
   "metadata": {},
   "outputs": [
    {
     "name": "stdout",
     "output_type": "stream",
     "text": [
      "[[1 2]\n",
      " [3 4]]\n"
     ]
    }
   ],
   "source": [
    "#make array1 2x2\n",
    "array1 = np.resize(array1,(2,2))\n",
    "print(array1)"
   ]
  },
  {
   "cell_type": "code",
   "execution_count": 46,
   "id": "184ea699-feaa-4f32-afa2-3093f0f79ec2",
   "metadata": {},
   "outputs": [
    {
     "name": "stdout",
     "output_type": "stream",
     "text": [
      "[[1 3]\n",
      " [2 4]]\n"
     ]
    }
   ],
   "source": [
    "#transpose the rows and columns\n",
    "array1 = np.transpose(array1)\n",
    "print(array1)"
   ]
  },
  {
   "cell_type": "markdown",
   "id": "b0a13a55-d078-46f5-b757-db2e762d1afb",
   "metadata": {},
   "source": [
    "## Part3: Math operators and functions"
   ]
  },
  {
   "cell_type": "code",
   "execution_count": null,
   "id": "12245543-a7c5-4c3c-b295-70e1b5ae0fe2",
   "metadata": {},
   "outputs": [],
   "source": []
  }
 ],
 "metadata": {
  "kernelspec": {
   "display_name": "Python 3 (ipykernel)",
   "language": "python",
   "name": "python3"
  },
  "language_info": {
   "codemirror_mode": {
    "name": "ipython",
    "version": 3
   },
   "file_extension": ".py",
   "mimetype": "text/x-python",
   "name": "python",
   "nbconvert_exporter": "python",
   "pygments_lexer": "ipython3",
   "version": "3.13.7"
  }
 },
 "nbformat": 4,
 "nbformat_minor": 5
}
