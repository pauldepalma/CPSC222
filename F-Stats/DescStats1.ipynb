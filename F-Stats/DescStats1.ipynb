{
 "cells": [
  {
   "cell_type": "markdown",
   "id": "81df2b0b-db13-4cbf-8274-d2d711da5a06",
   "metadata": {},
   "source": [
    "# Descriptive Statistics 1: Populations and Samples"
   ]
  },
  {
   "cell_type": "code",
   "execution_count": 1,
   "id": "45162275-dc13-45f6-aae4-49146ffd5a2c",
   "metadata": {},
   "outputs": [],
   "source": [
    "import pandas as pd\n",
    "import matplotlib.pyplot as plt  # used to create a histogram"
   ]
  },
  {
   "cell_type": "code",
   "execution_count": 2,
   "id": "e88f1cf6-a8d3-4be7-867a-100f6530f4b6",
   "metadata": {},
   "outputs": [],
   "source": [
    "PATH = \"/Users/depalma/Desktop/CPSC222/A-Data/\"\n",
    "data = PATH + \"nhanes.csv\"\n",
    "nhanes = pd.read_csv(data)"
   ]
  },
  {
   "cell_type": "code",
   "execution_count": 3,
   "id": "90b57de7-e26c-4419-860e-c9b33c066a1c",
   "metadata": {},
   "outputs": [],
   "source": [
    "#Take 5 random samples of 20 records witout replacement\n",
    "#samp_lst = [nhanes.sample(n=20, replace=False) for i in range(5)]\n",
    "sample_lst1 = [nhanes.sample(n=20, replace=False) for i in range(5)]"
   ]
  },
  {
   "cell_type": "code",
   "execution_count": 4,
   "id": "22ab918a-a730-481c-8f10-5ea28581d828",
   "metadata": {},
   "outputs": [],
   "source": [
    "#Compute the sample means\n",
    "sample_means1 = [sample[\"Age\"].mean() for sample in sample_lst1]"
   ]
  },
  {
   "cell_type": "code",
   "execution_count": 5,
   "id": "00a469fe-8d7e-44f8-a9f9-278310c7d984",
   "metadata": {},
   "outputs": [
    {
     "name": "stdout",
     "output_type": "stream",
     "text": [
      "36.3\n",
      "37.0\n",
      "40.0\n",
      "31.15\n",
      "39.4\n"
     ]
    }
   ],
   "source": [
    "for i in sample_means1:\n",
    "    print(i)\n"
   ]
  },
  {
   "cell_type": "code",
   "execution_count": 9,
   "id": "221a9d9a-bbf2-45e4-85e3-0b32b88bd996",
   "metadata": {},
   "outputs": [
    {
     "name": "stdout",
     "output_type": "stream",
     "text": [
      "35.53\n",
      "38.765\n",
      "37.96\n",
      "35.32\n",
      "37.125\n"
     ]
    }
   ],
   "source": [
    "\n",
    "sample_lst2 = [nhanes.sample(n=200, replace=False) for i in range(5)]\n",
    "means2 = [sample[\"Age\"].mean() for sample in sample_lst2]\n",
    "for i in means2:\n",
    "    print(i)"
   ]
  },
  {
   "cell_type": "code",
   "execution_count": 11,
   "id": "29d6a024-4265-49d0-acef-f64880443012",
   "metadata": {},
   "outputs": [
    {
     "name": "stdout",
     "output_type": "stream",
     "text": [
      "36.7421\n"
     ]
    }
   ],
   "source": [
    "#compute the population mean\n",
    "pop_mean = nhanes[\"Age\"].mean()\n",
    "print(pop_mean)"
   ]
  },
  {
   "cell_type": "code",
   "execution_count": null,
   "id": "878d2c92-c8af-4252-a277-c4efe21fcc30",
   "metadata": {},
   "outputs": [],
   "source": []
  }
 ],
 "metadata": {
  "kernelspec": {
   "display_name": "Python 3 (ipykernel)",
   "language": "python",
   "name": "python3"
  },
  "language_info": {
   "codemirror_mode": {
    "name": "ipython",
    "version": 3
   },
   "file_extension": ".py",
   "mimetype": "text/x-python",
   "name": "python",
   "nbconvert_exporter": "python",
   "pygments_lexer": "ipython3",
   "version": "3.13.7"
  }
 },
 "nbformat": 4,
 "nbformat_minor": 5
}
