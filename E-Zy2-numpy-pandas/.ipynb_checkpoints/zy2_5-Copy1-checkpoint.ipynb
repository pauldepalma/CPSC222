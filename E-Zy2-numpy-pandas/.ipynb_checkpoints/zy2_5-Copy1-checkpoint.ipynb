{
 "cells": [
  {
   "cell_type": "markdown",
   "id": "8b6e20f9-d91b-4d69-99d4-3c85c44f03df",
   "metadata": {},
   "source": [
    "# Essential Numpy"
   ]
  },
  {
   "cell_type": "markdown",
   "id": "61169a31-a36d-40c3-8ade-2cc34085cb5e",
   "metadata": {},
   "source": [
    "## Part 1 General Array Functions"
   ]
  },
  {
   "cell_type": "code",
   "execution_count": 1,
   "id": "c10c4816-0e02-4dc7-9c65-daa7e2167423",
   "metadata": {},
   "outputs": [],
   "source": [
    "import numpy as np"
   ]
  },
  {
   "cell_type": "code",
   "execution_count": null,
   "id": "a7e1ee0a-d5e6-4dc4-85cf-8e408f8f19a2",
   "metadata": {},
   "outputs": [],
   "source": []
  },
  {
   "cell_type": "code",
   "execution_count": 2,
   "id": "b0de07d6-f485-49ae-aebe-8547613149a7",
   "metadata": {},
   "outputs": [
    {
     "name": "stdout",
     "output_type": "stream",
     "text": [
      "1\n"
     ]
    }
   ],
   "source": [
    "#Numpy arrays are like Python lists \n",
    "#1-d\n",
    "arr1 = np.array([1,2,3])\n",
    "arr1\n",
    "print(arr1[0])\n"
   ]
  },
  {
   "cell_type": "code",
   "execution_count": 3,
   "id": "3b7636af-7d9c-4cee-bf81-8d6311037985",
   "metadata": {},
   "outputs": [
    {
     "name": "stdout",
     "output_type": "stream",
     "text": [
      "220\n"
     ]
    }
   ],
   "source": [
    "#2-d\n",
    "arr2 = np.array([[10, 20, 30], [210, 220, 230]])\n",
    "arr2\n",
    "print(arr2[1,1])"
   ]
  },
  {
   "cell_type": "code",
   "execution_count": 4,
   "id": "d26dded2-9fb4-462b-9f23-9c9bc3cc7924",
   "metadata": {},
   "outputs": [
    {
     "name": "stdout",
     "output_type": "stream",
     "text": [
      "19\n",
      "12\n"
     ]
    }
   ],
   "source": [
    "#3-d: A stack of 2-d matrices\n",
    "#First index: Which matrix (or block). There are 2--block 0 and block 1\n",
    "#Second index: Which row withn a block.  There are 3: 0,1,2\n",
    "#Third index: Which column within a block.  There 4: 0,1,2,3\n",
    "\n",
    "arr3 = np.array([\n",
    "    [[1, 2, 3, 4],\n",
    "     [5, 6, 7, 8],\n",
    "     [9, 10, 11, 12]],\n",
    "\n",
    "    [[13, 14, 15, 16],\n",
    "     [17, 18, 19, 20],\n",
    "     [21, 22, 23, 24]]\n",
    "])\n",
    "arr3\n",
    "print(arr3[1,1,2])\n",
    "print(arr3[0,2,3])"
   ]
  },
  {
   "cell_type": "code",
   "execution_count": 5,
   "id": "5804a959-f698-4994-8db1-7c64974d398d",
   "metadata": {},
   "outputs": [
    {
     "data": {
      "text/plain": [
       "(2, 3, 4)"
      ]
     },
     "execution_count": 5,
     "metadata": {},
     "output_type": "execute_result"
    }
   ],
   "source": [
    "#The shape of an array is a tuple of max sizes. In this case, 2 blocks, 3 rows, 4 colums\n",
    "np.shape(arr3)"
   ]
  },
  {
   "cell_type": "code",
   "execution_count": 6,
   "id": "ed68a95d-71c9-434d-b764-70d5bf65a989",
   "metadata": {},
   "outputs": [
    {
     "name": "stdout",
     "output_type": "stream",
     "text": [
      "(3, 4)\n",
      "[['z' 'a' 'g' 's']\n",
      " ['h' 'o' 'o' 'p']\n",
      " ['Q' 'Q' 'Q' 'Q']]\n"
     ]
    }
   ],
   "source": [
    "#insert function\n",
    "#insert 'Q' in a new second second row by setting axis to 0\n",
    "arr = np.array([['z','a','g','s'], ['h','o','o','p']])\n",
    "arr = np.insert(arr,2,'Q', axis=0)\n",
    "print(np.shape(arr))\n",
    "print(arr)\n",
    "               "
   ]
  },
  {
   "cell_type": "code",
   "execution_count": 7,
   "id": "316d1f30-2fa0-4528-87c1-2689db594e8a",
   "metadata": {},
   "outputs": [
    {
     "name": "stdout",
     "output_type": "stream",
     "text": [
      "(2, 5)\n",
      "[['z' 'a' 'R' 'g' 's']\n",
      " ['h' 'o' 'R' 'o' 'p']]\n"
     ]
    }
   ],
   "source": [
    "#inster 'R in a new second column, by setting axis to 1\n",
    "arr = np.array([['z','a','g','s'], ['h','o','o','p']])\n",
    "arr = np.insert(arr,2,'R', axis=1)\n",
    "print(np.shape(arr))\n",
    "print(arr)"
   ]
  },
  {
   "cell_type": "code",
   "execution_count": 8,
   "id": "ecec62a2-333b-4663-8c73-8fdbf89a6325",
   "metadata": {},
   "outputs": [
    {
     "name": "stdout",
     "output_type": "stream",
     "text": [
      "[23 53 22 74 53 31 70 29 61 44]\n"
     ]
    },
    {
     "data": {
      "text/plain": [
       "array([22, 23, 29, 31, 44, 53, 53, 61, 70, 74])"
      ]
     },
     "execution_count": 8,
     "metadata": {},
     "output_type": "execute_result"
    }
   ],
   "source": [
    "#sort\n",
    "import random\n",
    "arr = np.array([random.randint(0,100) for i in range(10)])\n",
    "print(arr)\n",
    "np.sort(arr)\n"
   ]
  },
  {
   "cell_type": "code",
   "execution_count": 9,
   "id": "a8756998-3ae5-47ce-82c9-52c02bce3b39",
   "metadata": {},
   "outputs": [
    {
     "name": "stdout",
     "output_type": "stream",
     "text": [
      "[[6 5]\n",
      " [4 2]\n",
      " [2 1]]\n",
      "\n",
      "[[2 1]\n",
      " [4 2]\n",
      " [6 5]]\n",
      "\n",
      "[[1 2]\n",
      " [2 4]\n",
      " [5 6]]\n"
     ]
    }
   ],
   "source": [
    "#sorting a matrix by rows then cols\n",
    "arr = np.array([[6,5],\n",
    "      [4,2],\n",
    "      [2,1]])\n",
    "print(arr)\n",
    "print()\n",
    "arr = np.sort(arr,axis=0)\n",
    "print(arr)\n",
    "print()\n",
    "arr = np.sort(arr,axis=1)\n",
    "print(arr)\n",
    "\n"
   ]
  },
  {
   "cell_type": "code",
   "execution_count": 10,
   "id": "a63590dc-6077-4017-8520-01efe370c67b",
   "metadata": {},
   "outputs": [
    {
     "name": "stdout",
     "output_type": "stream",
     "text": [
      "[[2 4]\n",
      " [5 6]]\n"
     ]
    }
   ],
   "source": [
    "#delete row 0.\n",
    "arr = np.delete(arr,0, axis=0)\n",
    "print(arr)"
   ]
  },
  {
   "cell_type": "code",
   "execution_count": 11,
   "id": "d7a78303-1214-46e9-985a-23c8f6f6ef8a",
   "metadata": {},
   "outputs": [
    {
     "name": "stdout",
     "output_type": "stream",
     "text": [
      "\n"
     ]
    },
    {
     "data": {
      "text/plain": [
       "array([[0., 0., 0., 0.],\n",
       "       [0., 0., 0., 0.],\n",
       "       [0., 0., 0., 0.]])"
      ]
     },
     "execution_count": 11,
     "metadata": {},
     "output_type": "execute_result"
    }
   ],
   "source": [
    "#Creaete an array with zeros\n",
    "np.zeros(3)\n",
    "print()\n",
    "np.zeros((3,4))"
   ]
  },
  {
   "cell_type": "markdown",
   "id": "f9e9f1ee-d9cd-46c2-893d-247c11673f1c",
   "metadata": {},
   "source": [
    "## Part 2: Shape Functions"
   ]
  },
  {
   "cell_type": "code",
   "execution_count": 12,
   "id": "ab6576de-9c40-4e82-863e-71c59c27c103",
   "metadata": {},
   "outputs": [
    {
     "name": "stdout",
     "output_type": "stream",
     "text": [
      "[[1 2]\n",
      " [3 4]]\n",
      "\n",
      "[[1 2 3 4]]\n"
     ]
    }
   ],
   "source": [
    "#Arrays can be reshaped\n",
    "array1 = np.array([[1, 2], [3, 4]])\n",
    "print(array1)\n",
    "print()\n",
    "array1 = np.reshape(array1, (1, 4))\n",
    "print(array1)"
   ]
  },
  {
   "cell_type": "code",
   "execution_count": 13,
   "id": "07989a51-bda3-441b-8d29-7fba4e17a748",
   "metadata": {},
   "outputs": [
    {
     "name": "stdout",
     "output_type": "stream",
     "text": [
      "[1 2 3 4]\n"
     ]
    }
   ],
   "source": [
    "#we can flatten this weird array\n",
    "array1 = np.ravel(array1)\n",
    "print(array1)"
   ]
  },
  {
   "cell_type": "code",
   "execution_count": 14,
   "id": "c7606e5c-a85a-4467-ab86-93cab669d1c2",
   "metadata": {},
   "outputs": [
    {
     "name": "stdout",
     "output_type": "stream",
     "text": [
      "[[1 2]\n",
      " [3 4]]\n"
     ]
    }
   ],
   "source": [
    "#make array1 2x2\n",
    "array1 = np.resize(array1,(2,2))\n",
    "print(array1)"
   ]
  },
  {
   "cell_type": "code",
   "execution_count": 15,
   "id": "184ea699-feaa-4f32-afa2-3093f0f79ec2",
   "metadata": {},
   "outputs": [
    {
     "name": "stdout",
     "output_type": "stream",
     "text": [
      "[[1 3]\n",
      " [2 4]]\n"
     ]
    }
   ],
   "source": [
    "#transpose the rows and columns\n",
    "array1 = np.transpose(array1)\n",
    "print(array1)"
   ]
  },
  {
   "cell_type": "markdown",
   "id": "b0a13a55-d078-46f5-b757-db2e762d1afb",
   "metadata": {},
   "source": [
    "## Part3: Math Operators and Functions"
   ]
  },
  {
   "cell_type": "code",
   "execution_count": 16,
   "id": "12245543-a7c5-4c3c-b295-70e1b5ae0fe2",
   "metadata": {},
   "outputs": [
    {
     "data": {
      "text/plain": [
       "array([[1, 2],\n",
       "       [3, 4]])"
      ]
     },
     "execution_count": 16,
     "metadata": {},
     "output_type": "execute_result"
    }
   ],
   "source": [
    "#Adding arrays\n",
    "ar1 = np.array([[1,2], [3,4]])\n",
    "ar1"
   ]
  },
  {
   "cell_type": "code",
   "execution_count": 24,
   "id": "375e54f4-832f-4050-98bb-c943cbb15cf6",
   "metadata": {},
   "outputs": [
    {
     "data": {
      "text/plain": [
       "array([[5, 6],\n",
       "       [7, 8]])"
      ]
     },
     "execution_count": 24,
     "metadata": {},
     "output_type": "execute_result"
    }
   ],
   "source": [
    "ar2 = np.array([[5,6], [7,8]])\n",
    "ar2\n"
   ]
  },
  {
   "cell_type": "code",
   "execution_count": 26,
   "id": "a1fd2cb4-6ee7-4680-b98c-c8badb90766d",
   "metadata": {},
   "outputs": [
    {
     "data": {
      "text/plain": [
       "array([[ 6,  8],\n",
       "       [10, 12]])"
      ]
     },
     "execution_count": 26,
     "metadata": {},
     "output_type": "execute_result"
    }
   ],
   "source": [
    "ar3 = ar1 + ar2\n",
    "ar3"
   ]
  },
  {
   "cell_type": "code",
   "execution_count": 27,
   "id": "39bb8315-b5fa-4948-8b13-627db0e5e9c2",
   "metadata": {},
   "outputs": [
    {
     "data": {
      "text/plain": [
       "array([[2.44948974, 2.82842712],\n",
       "       [3.16227766, 3.46410162]])"
      ]
     },
     "execution_count": 27,
     "metadata": {},
     "output_type": "execute_result"
    }
   ],
   "source": [
    "#arrays can be subtracted, divided, and subjected to other manipulations\n",
    "ar4 = np.sqrt(ar3)\n",
    "ar4"
   ]
  },
  {
   "cell_type": "code",
   "execution_count": 32,
   "id": "cd6d0285-113a-46ef-8785-b3f5e40b29e6",
   "metadata": {},
   "outputs": [
    {
     "name": "stdout",
     "output_type": "stream",
     "text": [
      "[[1 2]\n",
      " [3 4]]\n",
      "[[5 6]\n",
      " [7 8]]\n"
     ]
    },
    {
     "data": {
      "text/plain": [
       "array([[19, 22],\n",
       "       [43, 50]])"
      ]
     },
     "execution_count": 32,
     "metadata": {},
     "output_type": "execute_result"
    }
   ],
   "source": [
    "#matric multiplication\n",
    "print(ar1)\n",
    "print(ar2)\n",
    "np.matmul(ar1,ar2)\n",
    "#Row 1: 1st row of ar1 * 1st col of ar2 adding terms; 1st row of ar1 * 2nd col of ar2, adding terms\n",
    "#Row 2: 2nd row of ar1 * 1st col of art adding terms; 2nd fow of ar1 * 2nd col of ar2, adding terms"
   ]
  },
  {
   "cell_type": "code",
   "execution_count": 36,
   "id": "67f1bbd3-0fe9-4e0a-a095-3244657c0508",
   "metadata": {},
   "outputs": [
    {
     "name": "stdout",
     "output_type": "stream",
     "text": [
      "32\n"
     ]
    }
   ],
   "source": [
    "#dot product of two vectors; multiply elements an add terms\n",
    "a = [1,2,3]\n",
    "b = [4,5,6]\n",
    "c = np.dot(a,b)\n",
    "print(c)"
   ]
  },
  {
   "cell_type": "code",
   "execution_count": 45,
   "id": "1381d9f4-0fdf-4910-ac4b-45efb0b409bb",
   "metadata": {},
   "outputs": [
    {
     "name": "stdout",
     "output_type": "stream",
     "text": [
      "3\n",
      "4\n",
      "2.0\n",
      "5.0\n",
      "0.0\n"
     ]
    }
   ],
   "source": [
    "#Two more easy ones\n",
    "print(max(a))\n",
    "print(min(b))\n",
    "print(np.log10(100)) #base 10\n",
    "print(np.log2(32)) #base 2\n",
    "print(np.log(1))  #natural log"
   ]
  },
  {
   "cell_type": "code",
   "execution_count": null,
   "id": "af33e7f0-7858-43ca-bf8c-87b17942338c",
   "metadata": {},
   "outputs": [],
   "source": []
  }
 ],
 "metadata": {
  "kernelspec": {
   "display_name": "Python 3 (ipykernel)",
   "language": "python",
   "name": "python3"
  },
  "language_info": {
   "codemirror_mode": {
    "name": "ipython",
    "version": 3
   },
   "file_extension": ".py",
   "mimetype": "text/x-python",
   "name": "python",
   "nbconvert_exporter": "python",
   "pygments_lexer": "ipython3",
   "version": "3.13.7"
  }
 },
 "nbformat": 4,
 "nbformat_minor": 5
}
