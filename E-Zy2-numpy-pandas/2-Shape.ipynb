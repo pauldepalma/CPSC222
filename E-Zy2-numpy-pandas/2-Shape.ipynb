{
 "cells": [
  {
   "cell_type": "markdown",
   "id": "8b6e20f9-d91b-4d69-99d4-3c85c44f03df",
   "metadata": {},
   "source": [
    "# Essential Numpy"
   ]
  },
  {
   "cell_type": "markdown",
   "id": "f9e9f1ee-d9cd-46c2-893d-247c11673f1c",
   "metadata": {},
   "source": [
    "## Part 2: Shape Functions"
   ]
  },
  {
   "cell_type": "code",
   "execution_count": 12,
   "id": "ab6576de-9c40-4e82-863e-71c59c27c103",
   "metadata": {},
   "outputs": [
    {
     "name": "stdout",
     "output_type": "stream",
     "text": [
      "[[1 2]\n",
      " [3 4]]\n",
      "\n",
      "[[1 2 3 4]]\n"
     ]
    }
   ],
   "source": [
    "#Arrays can be reshaped\n",
    "array1 = np.array([[1, 2], [3, 4]])\n",
    "print(array1)\n",
    "print()\n",
    "array1 = np.reshape(array1, (1, 4))\n",
    "print(array1)"
   ]
  },
  {
   "cell_type": "code",
   "execution_count": 13,
   "id": "07989a51-bda3-441b-8d29-7fba4e17a748",
   "metadata": {},
   "outputs": [
    {
     "name": "stdout",
     "output_type": "stream",
     "text": [
      "[1 2 3 4]\n"
     ]
    }
   ],
   "source": [
    "#we can flatten this weird array\n",
    "array1 = np.ravel(array1)\n",
    "print(array1)"
   ]
  },
  {
   "cell_type": "code",
   "execution_count": 14,
   "id": "c7606e5c-a85a-4467-ab86-93cab669d1c2",
   "metadata": {},
   "outputs": [
    {
     "name": "stdout",
     "output_type": "stream",
     "text": [
      "[[1 2]\n",
      " [3 4]]\n"
     ]
    }
   ],
   "source": [
    "#make array1 2x2\n",
    "array1 = np.resize(array1,(2,2))\n",
    "print(array1)"
   ]
  },
  {
   "cell_type": "code",
   "execution_count": 15,
   "id": "184ea699-feaa-4f32-afa2-3093f0f79ec2",
   "metadata": {},
   "outputs": [
    {
     "name": "stdout",
     "output_type": "stream",
     "text": [
      "[[1 3]\n",
      " [2 4]]\n"
     ]
    }
   ],
   "source": [
    "#transpose the rows and columns\n",
    "array1 = np.transpose(array1)\n",
    "print(array1)"
   ]
  }
 ],
 "metadata": {
  "kernelspec": {
   "display_name": "Python 3 (ipykernel)",
   "language": "python",
   "name": "python3"
  },
  "language_info": {
   "codemirror_mode": {
    "name": "ipython",
    "version": 3
   },
   "file_extension": ".py",
   "mimetype": "text/x-python",
   "name": "python",
   "nbconvert_exporter": "python",
   "pygments_lexer": "ipython3",
   "version": "3.13.7"
  }
 },
 "nbformat": 4,
 "nbformat_minor": 5
}
