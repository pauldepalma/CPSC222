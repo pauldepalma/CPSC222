{
 "cells": [
  {
   "cell_type": "code",
   "execution_count": 1,
   "id": "09203494-0bd1-4401-a477-1f997ee20408",
   "metadata": {},
   "outputs": [],
   "source": [
    "import pandas as pd\n",
    "im"
   ]
  },
  {
   "cell_type": "code",
   "execution_count": 4,
   "id": "8bc201c3-1d3d-4d5d-b8e3-f4f9ccd5c8ed",
   "metadata": {},
   "outputs": [
    {
     "name": "stdout",
     "output_type": "stream",
     "text": [
      "    Name         Interest         City\n",
      "0  Paolo  Computer Sciene     Florence\n",
      "1  Heidi           Simcha  Chevy Chase\n",
      "2  Katie              May      Spokane\n"
     ]
    }
   ],
   "source": [
    "df = pd.read_csv(\"data1.csv\")\n",
    "print(df)"
   ]
  },
  {
   "cell_type": "code",
   "execution_count": 5,
   "id": "79407546-df46-48ec-a423-7d8ce66d4ad1",
   "metadata": {},
   "outputs": [
    {
     "name": "stdout",
     "output_type": "stream",
     "text": [
      "Sorted by Name\n",
      "    Name         Interest         City\n",
      "1  Heidi           Simcha  Chevy Chase\n",
      "2  Katie              May      Spokane\n",
      "0  Paolo  Computer Sciene     Florence \n",
      "\n"
     ]
    }
   ],
   "source": [
    "#sort by name\n",
    "print(\"Sorted by Name\")\n",
    "print(df.sort_values(by=\"Name\"), '\\n')"
   ]
  },
  {
   "cell_type": "code",
   "execution_count": 8,
   "id": "18fe7b4a-0f59-44a8-bbd7-ceec6e72ee1a",
   "metadata": {},
   "outputs": [
    {
     "name": "stdout",
     "output_type": "stream",
     "text": [
      "{'Name': ['Paolo', 'Heidi', 'Katie'], 'Interest': ['CS', 'Simcha', 'May'], 'City': ['Florence`', 'Chevy Chase', 'Spokane']} \n",
      "\n"
     ]
    }
   ],
   "source": [
    "new_df = pd.read_csv(\"data1.csv\")\n",
    "dict1 = new_df.to_dict(orient=\"list\") #columns are are keys\n",
    "print(dict1,'\\n')\n",
    "print()\n"
   ]
  },
  {
   "cell_type": "code",
   "execution_count": 10,
   "id": "8187d8ed-9f21-49fb-984f-fb80efc2df81",
   "metadata": {},
   "outputs": [
    {
     "name": "stdout",
     "output_type": "stream",
     "text": [
      "{\n",
      "    \"Name\": [\n",
      "        \"Paolo\",\n",
      "        \"Heidi\",\n",
      "        \"Katie\"\n",
      "    ],\n",
      "    \"Interest\": [\n",
      "        \"CS\",\n",
      "        \"Simcha\",\n",
      "        \"May\"\n",
      "    ],\n",
      "    \"City\": [\n",
      "        \"Florence`\",\n",
      "        \"Chevy Chase\",\n",
      "        \"Spokane\"\n",
      "    ]\n",
      "}\n"
     ]
    }
   ],
   "source": [
    "#for a nice print\n",
    "import json\n",
    "print(json.dumps(dict1, indent=4))"
   ]
  },
  {
   "cell_type": "code",
   "execution_count": 17,
   "id": "03165f85-e904-4f64-b23c-3c19ffdeb007",
   "metadata": {},
   "outputs": [
    {
     "ename": "NameError",
     "evalue": "name 'np' is not defined",
     "output_type": "error",
     "traceback": [
      "\u001b[31m---------------------------------------------------------------------------\u001b[39m",
      "\u001b[31mNameError\u001b[39m                                 Traceback (most recent call last)",
      "\u001b[36mCell\u001b[39m\u001b[36m \u001b[39m\u001b[32mIn[17]\u001b[39m\u001b[32m, line 3\u001b[39m\n\u001b[32m      1\u001b[39m df = pd.read_csv(\u001b[33m\"\u001b[39m\u001b[33mdata2.csv\u001b[39m\u001b[33m\"\u001b[39m)\n\u001b[32m      2\u001b[39m arr = \u001b[38;5;28msorted\u001b[39m(df[\u001b[33m\"\u001b[39m\u001b[33mFreq\u001b[39m\u001b[33m\"\u001b[39m].to_numpy())\n\u001b[32m----> \u001b[39m\u001b[32m3\u001b[39m sorted_arr = \u001b[43mnp\u001b[49m.sort(arr)\n\u001b[32m      4\u001b[39m \u001b[38;5;28mprint\u001b[39m(sorted_arr)\n",
      "\u001b[31mNameError\u001b[39m: name 'np' is not defined"
     ]
    }
   ],
   "source": [
    "df = pd.read_csv(\"data2.csv\")\n",
    "arr = sorted(df[\"Freq\"].to_numpy())\n",
    "sorted_arr = np.sort(arr)\n",
    "print(sorted_arr)\n"
   ]
  },
  {
   "cell_type": "code",
   "execution_count": null,
   "id": "bdc3a1d8-7f29-48d5-8bcd-4e34c3914cdb",
   "metadata": {},
   "outputs": [],
   "source": []
  }
 ],
 "metadata": {
  "kernelspec": {
   "display_name": "Python 3 (ipykernel)",
   "language": "python",
   "name": "python3"
  },
  "language_info": {
   "codemirror_mode": {
    "name": "ipython",
    "version": 3
   },
   "file_extension": ".py",
   "mimetype": "text/x-python",
   "name": "python",
   "nbconvert_exporter": "python",
   "pygments_lexer": "ipython3",
   "version": "3.13.7"
  }
 },
 "nbformat": 4,
 "nbformat_minor": 5
}
