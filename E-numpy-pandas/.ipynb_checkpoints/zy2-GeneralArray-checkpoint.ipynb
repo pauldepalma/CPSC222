{
 "cells": [
  {
   "cell_type": "markdown",
   "id": "8b6e20f9-d91b-4d69-99d4-3c85c44f03df",
   "metadata": {},
   "source": [
    "# Essential Numpy"
   ]
  },
  {
   "cell_type": "markdown",
   "id": "61169a31-a36d-40c3-8ade-2cc34085cb5e",
   "metadata": {},
   "source": [
    "## Part 1 General Array Functions"
   ]
  },
  {
   "cell_type": "code",
   "execution_count": 1,
   "id": "c10c4816-0e02-4dc7-9c65-daa7e2167423",
   "metadata": {},
   "outputs": [],
   "source": [
    "import numpy as np"
   ]
  },
  {
   "cell_type": "code",
   "execution_count": 2,
   "id": "b0de07d6-f485-49ae-aebe-8547613149a7",
   "metadata": {},
   "outputs": [
    {
     "name": "stdout",
     "output_type": "stream",
     "text": [
      "1\n"
     ]
    }
   ],
   "source": [
    "#Numpy arrays are like Python lists \n",
    "#1-d\n",
    "arr1 = np.array([1,2,3])\n",
    "arr1\n",
    "print(arr1[0])\n"
   ]
  },
  {
   "cell_type": "code",
   "execution_count": 3,
   "id": "3b7636af-7d9c-4cee-bf81-8d6311037985",
   "metadata": {},
   "outputs": [
    {
     "name": "stdout",
     "output_type": "stream",
     "text": [
      "220\n"
     ]
    }
   ],
   "source": [
    "#2-d\n",
    "arr2 = np.array([[10, 20, 30], [210, 220, 230]])\n",
    "arr2\n",
    "print(arr2[1,1])"
   ]
  },
  {
   "cell_type": "code",
   "execution_count": 4,
   "id": "d26dded2-9fb4-462b-9f23-9c9bc3cc7924",
   "metadata": {},
   "outputs": [
    {
     "name": "stdout",
     "output_type": "stream",
     "text": [
      "19\n",
      "12\n"
     ]
    }
   ],
   "source": [
    "#3-d: A stack of 2-d matrices\n",
    "#First index: Which matrix (or block). There are 2--block 0 and block 1\n",
    "#Second index: Which row withn a block.  There are 3: 0,1,2\n",
    "#Third index: Which column within a block.  There 4: 0,1,2,3\n",
    "\n",
    "arr3 = np.array([\n",
    "    [[1, 2, 3, 4],\n",
    "     [5, 6, 7, 8],\n",
    "     [9, 10, 11, 12]],\n",
    "\n",
    "    [[13, 14, 15, 16],\n",
    "     [17, 18, 19, 20],\n",
    "     [21, 22, 23, 24]]\n",
    "])\n",
    "arr3\n",
    "print(arr3[1,1,2])\n",
    "print(arr3[0,2,3])"
   ]
  },
  {
   "cell_type": "code",
   "execution_count": 5,
   "id": "5804a959-f698-4994-8db1-7c64974d398d",
   "metadata": {},
   "outputs": [
    {
     "data": {
      "text/plain": [
       "(2, 3, 4)"
      ]
     },
     "execution_count": 5,
     "metadata": {},
     "output_type": "execute_result"
    }
   ],
   "source": [
    "#The shape of an array is a tuple of max sizes. In this case, 2 blocks, 3 rows, 4 colums\n",
    "np.shape(arr3)"
   ]
  },
  {
   "cell_type": "code",
   "execution_count": 6,
   "id": "ed68a95d-71c9-434d-b764-70d5bf65a989",
   "metadata": {},
   "outputs": [
    {
     "name": "stdout",
     "output_type": "stream",
     "text": [
      "(3, 4)\n",
      "[['z' 'a' 'g' 's']\n",
      " ['h' 'o' 'o' 'p']\n",
      " ['Q' 'Q' 'Q' 'Q']]\n"
     ]
    }
   ],
   "source": [
    "#insert function\n",
    "#insert 'Q' in a new second second row by setting axis to 0\n",
    "arr = np.array([['z','a','g','s'], ['h','o','o','p']])\n",
    "arr = np.insert(arr,2,'Q', axis=0)\n",
    "print(np.shape(arr))\n",
    "print(arr)\n",
    "               "
   ]
  },
  {
   "cell_type": "code",
   "execution_count": 7,
   "id": "316d1f30-2fa0-4528-87c1-2689db594e8a",
   "metadata": {},
   "outputs": [
    {
     "name": "stdout",
     "output_type": "stream",
     "text": [
      "(2, 5)\n",
      "[['z' 'a' 'R' 'g' 's']\n",
      " ['h' 'o' 'R' 'o' 'p']]\n"
     ]
    }
   ],
   "source": [
    "#inster 'R in a new second column, by setting axis to 1\n",
    "arr = np.array([['z','a','g','s'], ['h','o','o','p']])\n",
    "arr = np.insert(arr,2,'R', axis=1)\n",
    "print(np.shape(arr))\n",
    "print(arr)"
   ]
  },
  {
   "cell_type": "code",
   "execution_count": 8,
   "id": "ecec62a2-333b-4663-8c73-8fdbf89a6325",
   "metadata": {},
   "outputs": [
    {
     "name": "stdout",
     "output_type": "stream",
     "text": [
      "[23 53 22 74 53 31 70 29 61 44]\n"
     ]
    },
    {
     "data": {
      "text/plain": [
       "array([22, 23, 29, 31, 44, 53, 53, 61, 70, 74])"
      ]
     },
     "execution_count": 8,
     "metadata": {},
     "output_type": "execute_result"
    }
   ],
   "source": [
    "#sort\n",
    "import random\n",
    "arr = np.array([random.randint(0,100) for i in range(10)])\n",
    "print(arr)\n",
    "np.sort(arr)\n"
   ]
  },
  {
   "cell_type": "code",
   "execution_count": 9,
   "id": "a8756998-3ae5-47ce-82c9-52c02bce3b39",
   "metadata": {},
   "outputs": [
    {
     "name": "stdout",
     "output_type": "stream",
     "text": [
      "[[6 5]\n",
      " [4 2]\n",
      " [2 1]]\n",
      "\n",
      "[[2 1]\n",
      " [4 2]\n",
      " [6 5]]\n",
      "\n",
      "[[1 2]\n",
      " [2 4]\n",
      " [5 6]]\n"
     ]
    }
   ],
   "source": [
    "#sorting a matrix by rows then cols\n",
    "arr = np.array([[6,5],\n",
    "      [4,2],\n",
    "      [2,1]])\n",
    "print(arr)\n",
    "print()\n",
    "arr = np.sort(arr,axis=0)\n",
    "print(arr)\n",
    "print()\n",
    "arr = np.sort(arr,axis=1)\n",
    "print(arr)\n",
    "\n"
   ]
  },
  {
   "cell_type": "code",
   "execution_count": 10,
   "id": "a63590dc-6077-4017-8520-01efe370c67b",
   "metadata": {},
   "outputs": [
    {
     "name": "stdout",
     "output_type": "stream",
     "text": [
      "[[2 4]\n",
      " [5 6]]\n"
     ]
    }
   ],
   "source": [
    "#delete row 0.\n",
    "arr = np.delete(arr,0, axis=0)\n",
    "print(arr)"
   ]
  },
  {
   "cell_type": "code",
   "execution_count": 11,
   "id": "d7a78303-1214-46e9-985a-23c8f6f6ef8a",
   "metadata": {},
   "outputs": [
    {
     "name": "stdout",
     "output_type": "stream",
     "text": [
      "\n"
     ]
    },
    {
     "data": {
      "text/plain": [
       "array([[0., 0., 0., 0.],\n",
       "       [0., 0., 0., 0.],\n",
       "       [0., 0., 0., 0.]])"
      ]
     },
     "execution_count": 11,
     "metadata": {},
     "output_type": "execute_result"
    }
   ],
   "source": [
    "#Creaete an array with zeros\n",
    "np.zeros(3)\n",
    "print()\n",
    "np.zeros((3,4))"
   ]
  }
 ],
 "metadata": {
  "kernelspec": {
   "display_name": "Python 3 (ipykernel)",
   "language": "python",
   "name": "python3"
  },
  "language_info": {
   "codemirror_mode": {
    "name": "ipython",
    "version": 3
   },
   "file_extension": ".py",
   "mimetype": "text/x-python",
   "name": "python",
   "nbconvert_exporter": "python",
   "pygments_lexer": "ipython3",
   "version": "3.13.7"
  }
 },
 "nbformat": 4,
 "nbformat_minor": 5
}
