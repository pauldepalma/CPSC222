{
 "cells": [
  {
   "cell_type": "markdown",
   "id": "8b6e20f9-d91b-4d69-99d4-3c85c44f03df",
   "metadata": {},
   "source": [
    "# Essential Numpy"
   ]
  },
  {
   "cell_type": "markdown",
   "id": "b0a13a55-d078-46f5-b757-db2e762d1afb",
   "metadata": {},
   "source": [
    "## Part3: Math Operators and Functions"
   ]
  },
  {
   "cell_type": "code",
   "execution_count": 5,
   "id": "d65f24d9-b72b-47a0-93d1-1ceb2518d39e",
   "metadata": {},
   "outputs": [],
   "source": [
    "import numpy as np"
   ]
  },
  {
   "cell_type": "code",
   "execution_count": 16,
   "id": "12245543-a7c5-4c3c-b295-70e1b5ae0fe2",
   "metadata": {},
   "outputs": [
    {
     "data": {
      "text/plain": [
       "array([[1, 2],\n",
       "       [3, 4]])"
      ]
     },
     "execution_count": 16,
     "metadata": {},
     "output_type": "execute_result"
    }
   ],
   "source": [
    "#Adding arrays\n",
    "ar1 = np.array([[1,2], [3,4]])\n",
    "ar1"
   ]
  },
  {
   "cell_type": "code",
   "execution_count": 24,
   "id": "375e54f4-832f-4050-98bb-c943cbb15cf6",
   "metadata": {},
   "outputs": [
    {
     "data": {
      "text/plain": [
       "array([[5, 6],\n",
       "       [7, 8]])"
      ]
     },
     "execution_count": 24,
     "metadata": {},
     "output_type": "execute_result"
    }
   ],
   "source": [
    "ar2 = np.array([[5,6], [7,8]])\n",
    "ar2\n"
   ]
  },
  {
   "cell_type": "code",
   "execution_count": null,
   "id": "dfa3bbf8-b1f2-42ce-b24b-ee97bdd073d2",
   "metadata": {},
   "outputs": [],
   "source": []
  },
  {
   "cell_type": "code",
   "execution_count": 26,
   "id": "a1fd2cb4-6ee7-4680-b98c-c8badb90766d",
   "metadata": {},
   "outputs": [
    {
     "data": {
      "text/plain": [
       "array([[ 6,  8],\n",
       "       [10, 12]])"
      ]
     },
     "execution_count": 26,
     "metadata": {},
     "output_type": "execute_result"
    }
   ],
   "source": [
    "ar3 = ar1 + ar2\n",
    "ar3"
   ]
  },
  {
   "cell_type": "code",
   "execution_count": 27,
   "id": "39bb8315-b5fa-4948-8b13-627db0e5e9c2",
   "metadata": {},
   "outputs": [
    {
     "data": {
      "text/plain": [
       "array([[2.44948974, 2.82842712],\n",
       "       [3.16227766, 3.46410162]])"
      ]
     },
     "execution_count": 27,
     "metadata": {},
     "output_type": "execute_result"
    }
   ],
   "source": [
    "#arrays can be subtracted, divided, and subjected to other manipulations\n",
    "ar4 = np.sqrt(ar3)\n",
    "ar4"
   ]
  },
  {
   "cell_type": "code",
   "execution_count": 12,
   "id": "55de5426-350e-4e39-ab7f-c4d2601d8a96",
   "metadata": {},
   "outputs": [
    {
     "name": "stdout",
     "output_type": "stream",
     "text": [
      "32\n"
     ]
    }
   ],
   "source": [
    "#dot product of two vectors; multiply elements an add terms\n",
    "a = [1,2,3]\n",
    "b = [4,5,6]\n",
    "c = np.dot(a,b)\n",
    "print(c)"
   ]
  },
  {
   "cell_type": "code",
   "execution_count": 16,
   "id": "cd6d0285-113a-46ef-8785-b3f5e40b29e6",
   "metadata": {},
   "outputs": [
    {
     "name": "stdout",
     "output_type": "stream",
     "text": [
      "[[1 2]\n",
      " [3 4]]\n",
      "[[4 5]\n",
      " [6 7]]\n"
     ]
    },
    {
     "data": {
      "text/plain": [
       "array([[16, 19],\n",
       "       [36, 43]])"
      ]
     },
     "execution_count": 16,
     "metadata": {},
     "output_type": "execute_result"
    }
   ],
   "source": [
    "#matrix multiplication\n",
    "#Row 1: 1st row of ar1 * 1st col of ar2 adding terms; 1st row of ar1 * 2nd col of ar2, adding terms\n",
    "#Row 2: 2nd row of ar1 * 1st col of art adding terms; 2nd fow of ar1 * 2nd col of ar2, adding terms\n",
    "ar1 = np.array([[1,2],\n",
    "               [3,4]])\n",
    "ar2 = np.array([[4,5],\n",
    "               [6,7]])\n",
    "\n",
    "print(ar1)\n",
    "print(ar2)\n",
    "np.matmul(ar1,ar2)\n"
   ]
  },
  {
   "cell_type": "code",
   "execution_count": 17,
   "id": "02c8f732-42e6-481f-afed-e7f59dde377c",
   "metadata": {},
   "outputs": [
    {
     "name": "stdout",
     "output_type": "stream",
     "text": [
      "[[ 58  64]\n",
      " [139 154]]\n",
      "(2, 3)\n",
      "(3, 2)\n",
      "(2, 2)\n"
     ]
    }
   ],
   "source": [
    "#Matrix mult: Internal dimensions must be the same: AxC * CXD\n",
    "A = np.array([[1,2,3],\n",
    "          [4,5,6]])\n",
    "B = np.array([ [7,8],\n",
    "               [9,10],\n",
    "               [11,12]])\n",
    "\n",
    "C = np.matmul(A,B)\n",
    "print(C)\n",
    "print(np.shape(A))\n",
    "print(np.shape(B))\n",
    "print(np.shape(C))\n",
    "\n",
    "\n"
   ]
  },
  {
   "cell_type": "code",
   "execution_count": 45,
   "id": "1381d9f4-0fdf-4910-ac4b-45efb0b409bb",
   "metadata": {},
   "outputs": [
    {
     "name": "stdout",
     "output_type": "stream",
     "text": [
      "3\n",
      "4\n",
      "2.0\n",
      "5.0\n",
      "0.0\n"
     ]
    }
   ],
   "source": [
    "#Two more easy ones\n",
    "print(max(a))\n",
    "print(min(b))\n",
    "print(np.log10(100)) #base 10\n",
    "print(np.log2(32)) #base 2\n",
    "print(np.log(1))  #natural log"
   ]
  },
  {
   "cell_type": "code",
   "execution_count": null,
   "id": "af33e7f0-7858-43ca-bf8c-87b17942338c",
   "metadata": {},
   "outputs": [],
   "source": []
  }
 ],
 "metadata": {
  "kernelspec": {
   "display_name": "Python 3 (ipykernel)",
   "language": "python",
   "name": "python3"
  },
  "language_info": {
   "codemirror_mode": {
    "name": "ipython",
    "version": 3
   },
   "file_extension": ".py",
   "mimetype": "text/x-python",
   "name": "python",
   "nbconvert_exporter": "python",
   "pygments_lexer": "ipython3",
   "version": "3.13.7"
  }
 },
 "nbformat": 4,
 "nbformat_minor": 5
}
